{
 "cells": [
  {
   "cell_type": "code",
   "execution_count": 1,
   "metadata": {},
   "outputs": [
    {
     "name": "stdout",
     "output_type": "stream",
     "text": [
      "Collecting yelp\n",
      "  Downloading https://files.pythonhosted.org/packages/74/53/2fb93be8fa9661a3ec46d18687449ed8af5fc692231dfe4ea52bfa08db90/yelp-1.0.2.tar.gz\n",
      "Collecting httplib2 (from yelp)\n",
      "\u001b[?25l  Downloading https://files.pythonhosted.org/packages/15/dc/d14bce03f4bfd0214b90a3f556d7c96f75bb94ad597c816a641b962f22e9/httplib2-0.19.1-py3-none-any.whl (95kB)\n",
      "\u001b[K     |████████████████████████████████| 102kB 1.0MB/s eta 0:00:01\n",
      "\u001b[?25hCollecting oauth2 (from yelp)\n",
      "  Downloading https://files.pythonhosted.org/packages/a0/6f/86db603912ecd04109af952c38bc08928886cf0e34c723481fa7db98b4b5/oauth2-1.9.0.post1-py2.py3-none-any.whl\n",
      "Requirement already satisfied: six in /opt/conda/lib/python3.7/site-packages (from yelp) (1.12.0)\n",
      "Requirement already satisfied: pyparsing<3,>=2.4.2 in /opt/conda/lib/python3.7/site-packages (from httplib2->yelp) (2.4.2)\n",
      "Building wheels for collected packages: yelp\n",
      "  Building wheel for yelp (setup.py) ... \u001b[?25ldone\n",
      "\u001b[?25h  Created wheel for yelp: filename=yelp-1.0.2-cp37-none-any.whl size=11805 sha256=46d4f189a8686c9b6806f3a0d67d94747ed9ed25d18dcc7ee7cfa1fe749614cf\n",
      "  Stored in directory: /home/jovyan/.cache/pip/wheels/a5/1f/cb/cd71331e931f7b0e719d4319b8cc14e34faabac6946ff35aa4\n",
      "Successfully built yelp\n",
      "Installing collected packages: httplib2, oauth2, yelp\n",
      "Successfully installed httplib2-0.19.1 oauth2-1.9.0.post1 yelp-1.0.2\n",
      "Note: you may need to restart the kernel to use updated packages.\n"
     ]
    }
   ],
   "source": [
    "pip install yelp\n"
   ]
  },
  {
   "cell_type": "code",
   "execution_count": 11,
   "metadata": {},
   "outputs": [],
   "source": [
    "# url=f'https://www.behindthename.com/api/lookup.json?name={x}&key=jo266454088'\n",
    "# ref=requests.get(url)\n",
    "# h=json.loads(ref.text)\n",
    "apikey=\"jewuQyQCl6xfKXLDhtaFI2xD602_A4yIS37P7DnfFk5EO6JllvzFexgI1fjSTTa2WboOr58Ur7uWm8JO8lAfxemm8HAQrnrJ39Ktfn14zrBiQ_wrkqKrb2drxRhlYHYx\"\n",
    "headers = {'Authorization': 'Bearer %s' % apikey}\n",
    "from yelp.client import Client\n",
    "client = Client(apikey)"
   ]
  },
  {
   "cell_type": "code",
   "execution_count": 13,
   "metadata": {},
   "outputs": [
    {
     "data": {
      "text/plain": [
       "{'businesses': [{'id': 'WqxC0U039e-GwdfCge0x5A',\n",
       "   'alias': 'duffys-den-detroit',\n",
       "   'name': \"Duffy's Den\",\n",
       "   'image_url': 'https://s3-media1.fl.yelpcdn.com/bphoto/S8dAJCyF1hQdXf0VYx4dfg/o.jpg',\n",
       "   'is_closed': False,\n",
       "   'url': 'https://www.yelp.com/biz/duffys-den-detroit?adjust_creative=lWoWdW-CC6a4ORmzg19d7g&utm_campaign=yelp_api_v3&utm_medium=api_v3_business_search&utm_source=lWoWdW-CC6a4ORmzg19d7g',\n",
       "   'review_count': 4,\n",
       "   'categories': [{'alias': 'sportsbars', 'title': 'Sports Bars'},\n",
       "    {'alias': 'tradamerican', 'title': 'American (Traditional)'}],\n",
       "   'rating': 5.0,\n",
       "   'coordinates': {'latitude': 42.4145393371582,\n",
       "    'longitude': -83.2854995727539},\n",
       "   'transactions': ['delivery'],\n",
       "   'price': '$$',\n",
       "   'location': {'address1': '24800 W McNichols Rd',\n",
       "    'address2': '',\n",
       "    'address3': '',\n",
       "    'city': 'Detroit',\n",
       "    'zip_code': '48219',\n",
       "    'country': 'US',\n",
       "    'state': 'MI',\n",
       "    'display_address': ['24800 W McNichols Rd', 'Detroit, MI 48219']},\n",
       "   'phone': '+13135380040',\n",
       "   'display_phone': '(313) 538-0040',\n",
       "   'distance': 16981.450973885367}],\n",
       " 'total': 2,\n",
       " 'region': {'center': {'longitude': -83.09097290039062,\n",
       "   'latitude': 42.36241855567113}}}"
      ]
     },
     "execution_count": 13,
     "metadata": {},
     "output_type": "execute_result"
    }
   ],
   "source": [
    "url='https://api.yelp.com/v3/businesses/search'\n",
    "import requests\n",
    "import json\n",
    "# In the dictionary, term can take values like food, cafes or businesses like McDonalds\n",
    "params = {'Authorization':apikey,'term':\"duffy's den\",'location':'Detroit'}\n",
    "ref=requests.get(url,params=params,headers=headers)\n",
    "json.loads(ref.text)"
   ]
  },
  {
   "cell_type": "code",
   "execution_count": null,
   "metadata": {},
   "outputs": [],
   "source": []
  }
 ],
 "metadata": {
  "kernelspec": {
   "display_name": "Python 3",
   "language": "python",
   "name": "python3"
  },
  "language_info": {
   "codemirror_mode": {
    "name": "ipython",
    "version": 3
   },
   "file_extension": ".py",
   "mimetype": "text/x-python",
   "name": "python",
   "nbconvert_exporter": "python",
   "pygments_lexer": "ipython3",
   "version": "3.7.3"
  }
 },
 "nbformat": 4,
 "nbformat_minor": 4
}
